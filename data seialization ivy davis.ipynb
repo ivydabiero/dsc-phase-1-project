{
  "nbformat": 4,
  "nbformat_minor": 0,
  "metadata": {
    "colab": {
      "provenance": [],
      "authorship_tag": "ABX9TyNYCTVtRTs5gtPLEUDjNCB8",
      "include_colab_link": true
    },
    "kernelspec": {
      "name": "python3",
      "display_name": "Python 3"
    },
    "language_info": {
      "name": "python"
    }
  },
  "cells": [
    {
      "cell_type": "markdown",
      "metadata": {
        "id": "view-in-github",
        "colab_type": "text"
      },
      "source": [
        "<a href=\"https://colab.research.google.com/github/ivydabiero/dsc-phase-1-project/blob/master/data%20seialization%20ivy%20davis.ipynb\" target=\"_parent\"><img src=\"https://colab.research.google.com/assets/colab-badge.svg\" alt=\"Open In Colab\"/></a>"
      ]
    },
    {
      "cell_type": "code",
      "execution_count": 5,
      "metadata": {
        "id": "kS3n1FNCY05f"
      },
      "outputs": [],
      "source": [
        "import json\n",
        "import csv"
      ]
    },
    {
      "cell_type": "code",
      "source": [
        "world_cup_file = open(\"/content/world_cup_2018.json\")\n",
        "population_file = open(\"/content/country_populations.csv\")"
      ],
      "metadata": {
        "id": "r_so1CAjehP0"
      },
      "execution_count": 6,
      "outputs": []
    },
    {
      "cell_type": "code",
      "source": [
        "world_cup_file = open(\"/content/world_cup_2018.json\")\n",
        "world_cup_data = json.load(world_cup_file) # Load JSON data before closing the file\n",
        "world_cup_file.close() # Close the file after loading the data"
      ],
      "metadata": {
        "id": "E48Zbi4QiEVy"
      },
      "execution_count": 7,
      "outputs": []
    },
    {
      "cell_type": "code",
      "source": [
        "# Check that the overall data structure is a dictionary\n",
        "assert type(world_cup_data) == dict\n",
        "\n",
        "# Check that the dictionary has 2 keys, 'name' and 'rounds'\n",
        "assert list(world_cup_data.keys()) == [\"name\", \"rounds\"]"
      ],
      "metadata": {
        "id": "LshctHP8iUQs"
      },
      "execution_count": 8,
      "outputs": []
    },
    {
      "cell_type": "code",
      "source": [
        "population_file = open(\"/content/country_populations.csv\")\n",
        "population_reader = csv.reader(population_file)\n",
        "population_data = list(population_reader)\n",
        "\n",
        "# Close the file now that we're done reading from it\n",
        "population_file.close()"
      ],
      "metadata": {
        "id": "iqk9PmuEj_o1"
      },
      "execution_count": 9,
      "outputs": []
    },
    {
      "cell_type": "code",
      "source": [
        "# Check that the overall data structure is a list\n",
        "assert type(population_data) == list\n",
        "from collections import OrderedDict\n",
        "# Skip the header row\n",
        "population_data = population_data[1:]\n",
        "\n",
        "assert type(population_data[0]) == list # Check that the first row is a list\n",
        "\n",
        "# Convert the remaining rows to dictionaries, assuming the first row contains the keys\n",
        "keys = population_data[0]\n",
        "population_data = [dict(zip(keys, row)) for row in population_data[1:]]\n",
        "\n",
        "assert type(population_data[0]) == dict # Now check if the first row is a dictionary"
      ],
      "metadata": {
        "id": "UsLiuZoRk8-E"
      },
      "execution_count": 10,
      "outputs": []
    },
    {
      "cell_type": "code",
      "source": [
        "{\n",
        "  \"name\": \"World Cup 2018\",\n",
        "  \"rounds\": [\n",
        "    {\n",
        "      \"name\": \"Matchday 1\",\n",
        "      \"matches\": [\n",
        "        {\n",
        "          \"num\": 1,\n",
        "          \"date\": \"2018-06-14\",\n",
        "          \"time\": \"18:00\",\n",
        "          \"team1\": { \"name\": \"Russia\",       \"code\": \"RUS\" },\n",
        "          \"team2\": { \"name\": \"Saudi Arabia\", \"code\": \"KSA\" },\n",
        "          \"score1\":  5,\n",
        "          \"score2\":  0,\n",
        "          \"score1i\": 2,\n",
        "          \"score2i\": 0,\n",
        "          \"goals1\": [\n",
        "            { \"name\": \"Gazinsky\",   \"minute\": 12,              \"score1\": 1, \"score2\": 0 },\n",
        "            { \"name\": \"Cheryshev\",  \"minute\": 43,              \"score1\": 2, \"score2\": 0 },\n",
        "            { \"name\": \"Dzyuba\",     \"minute\": 71,              \"score1\": 3, \"score2\": 0 },\n",
        "            { \"name\": \"Cheryshev\",  \"minute\": 90, \"offset\": 1, \"score1\": 4, \"score2\": 0 },\n",
        "            { \"name\": \"Golovin\",    \"minute\": 90, \"offset\": 4, \"score1\": 5, \"score2\": 0 }\n",
        "          ],\n",
        "          \"goals2\": [],\n",
        "          \"group\": \"Group A\",\n",
        "          \"stadium\": { \"key\": \"luzhniki\", \"name\": \"Luzhniki Stadium\" },\n",
        "          \"city\": \"Moscow\",\n",
        "          \"timezone\": \"UTC+3\"\n",
        "        }\n",
        "      ]\n",
        "    },\n",
        "    {\n",
        "      \"name\": \"Matchday 2\",\n",
        "      \"matches\": [\n",
        "        {\n",
        "          \"num\": 2,\n",
        "          \"date\": \"2018-06-15\",\n",
        "          \"time\": \"17:00\",\n",
        "          \"team1\": { \"name\": \"Egypt\",   \"code\": \"EGY\" },\n",
        "          \"team2\": { \"name\": \"Uruguay\", \"code\": \"URU\" },\n",
        "          \"score1\":  0,\n",
        "          \"score2\":  1,\n",
        "          \"score1i\": 0,\n",
        "          \"score2i\": 0,\n",
        "          \"goals1\": [],\n",
        "          \"goals2\": [\n",
        "            { \"name\": \"Giménez\",  \"minute\": 89,  \"score1\": 0, \"score2\": 1 }\n",
        "          ],\n",
        "          \"group\": \"Group A\",\n",
        "          \"stadium\": { \"key\": \"ekaterinburg\", \"name\": \"Ekaterinburg Arena\" },\n",
        "          \"city\": \"Ekaterinburg\",\n",
        "          \"timezone\": \"UTC+5\"\n",
        "        },\n",
        "        ...\n",
        "      ],\n",
        "    },\n",
        "  ],\n",
        "}"
      ],
      "metadata": {
        "colab": {
          "base_uri": "https://localhost:8080/"
        },
        "id": "7L5JrCgzo4Z-",
        "outputId": "b6af7d10-0d86-4f74-b120-f4eacf0993dc"
      },
      "execution_count": 11,
      "outputs": [
        {
          "output_type": "execute_result",
          "data": {
            "text/plain": [
              "{'name': 'World Cup 2018',\n",
              " 'rounds': [{'name': 'Matchday 1',\n",
              "   'matches': [{'num': 1,\n",
              "     'date': '2018-06-14',\n",
              "     'time': '18:00',\n",
              "     'team1': {'name': 'Russia', 'code': 'RUS'},\n",
              "     'team2': {'name': 'Saudi Arabia', 'code': 'KSA'},\n",
              "     'score1': 5,\n",
              "     'score2': 0,\n",
              "     'score1i': 2,\n",
              "     'score2i': 0,\n",
              "     'goals1': [{'name': 'Gazinsky', 'minute': 12, 'score1': 1, 'score2': 0},\n",
              "      {'name': 'Cheryshev', 'minute': 43, 'score1': 2, 'score2': 0},\n",
              "      {'name': 'Dzyuba', 'minute': 71, 'score1': 3, 'score2': 0},\n",
              "      {'name': 'Cheryshev',\n",
              "       'minute': 90,\n",
              "       'offset': 1,\n",
              "       'score1': 4,\n",
              "       'score2': 0},\n",
              "      {'name': 'Golovin',\n",
              "       'minute': 90,\n",
              "       'offset': 4,\n",
              "       'score1': 5,\n",
              "       'score2': 0}],\n",
              "     'goals2': [],\n",
              "     'group': 'Group A',\n",
              "     'stadium': {'key': 'luzhniki', 'name': 'Luzhniki Stadium'},\n",
              "     'city': 'Moscow',\n",
              "     'timezone': 'UTC+3'}]},\n",
              "  {'name': 'Matchday 2',\n",
              "   'matches': [{'num': 2,\n",
              "     'date': '2018-06-15',\n",
              "     'time': '17:00',\n",
              "     'team1': {'name': 'Egypt', 'code': 'EGY'},\n",
              "     'team2': {'name': 'Uruguay', 'code': 'URU'},\n",
              "     'score1': 0,\n",
              "     'score2': 1,\n",
              "     'score1i': 0,\n",
              "     'score2i': 0,\n",
              "     'goals1': [],\n",
              "     'goals2': [{'name': 'Giménez', 'minute': 89, 'score1': 0, 'score2': 1}],\n",
              "     'group': 'Group A',\n",
              "     'stadium': {'key': 'ekaterinburg', 'name': 'Ekaterinburg Arena'},\n",
              "     'city': 'Ekaterinburg',\n",
              "     'timezone': 'UTC+5'},\n",
              "    Ellipsis]}]}"
            ]
          },
          "metadata": {},
          "execution_count": 11
        }
      ]
    },
    {
      "cell_type": "code",
      "source": [
        "world_cup_data.keys()"
      ],
      "metadata": {
        "colab": {
          "base_uri": "https://localhost:8080/"
        },
        "id": "tHZ-lp6DpITh",
        "outputId": "5e5ce571-b744-435b-c6a7-f43acf5b37ca"
      },
      "execution_count": 12,
      "outputs": [
        {
          "output_type": "execute_result",
          "data": {
            "text/plain": [
              "dict_keys(['name', 'rounds'])"
            ]
          },
          "metadata": {},
          "execution_count": 12
        }
      ]
    },
    {
      "cell_type": "code",
      "source": [
        "world_cup_data[\"name\"]"
      ],
      "metadata": {
        "colab": {
          "base_uri": "https://localhost:8080/",
          "height": 35
        },
        "id": "4cgMuQZ6pW7J",
        "outputId": "1738949a-369b-470d-af56-52caa38bd899"
      },
      "execution_count": 13,
      "outputs": [
        {
          "output_type": "execute_result",
          "data": {
            "text/plain": [
              "'World Cup 2018'"
            ],
            "application/vnd.google.colaboratory.intrinsic+json": {
              "type": "string"
            }
          },
          "metadata": {},
          "execution_count": 13
        }
      ]
    },
    {
      "cell_type": "code",
      "source": [
        "# Run this cell without changes\n",
        "rounds = world_cup_data[\"rounds\"]\n",
        "\n",
        "print(\"type(rounds):\", type(rounds))\n",
        "print(\"len(rounds):\", len(rounds))\n",
        "print(\"type(rounds[3])\", type(rounds[3]))\n",
        "print(\"rounds[3]:\")\n",
        "rounds[3]"
      ],
      "metadata": {
        "colab": {
          "base_uri": "https://localhost:8080/"
        },
        "id": "MfhMBa39pjD6",
        "outputId": "43f62bbe-0216-469b-9bac-d4829980de8a"
      },
      "execution_count": 14,
      "outputs": [
        {
          "output_type": "stream",
          "name": "stdout",
          "text": [
            "type(rounds): <class 'list'>\n",
            "len(rounds): 20\n",
            "type(rounds[3]) <class 'dict'>\n",
            "rounds[3]:\n"
          ]
        },
        {
          "output_type": "execute_result",
          "data": {
            "text/plain": [
              "{'name': 'Matchday 4',\n",
              " 'matches': [{'num': 9,\n",
              "   'date': '2018-06-17',\n",
              "   'time': '21:00',\n",
              "   'team1': {'name': 'Brazil', 'code': 'BRA'},\n",
              "   'team2': {'name': 'Switzerland', 'code': 'SUI'},\n",
              "   'score1': 1,\n",
              "   'score2': 1,\n",
              "   'score1i': 1,\n",
              "   'score2i': 0,\n",
              "   'goals1': [{'name': 'Coutinho', 'minute': 20, 'score1': 1, 'score2': 0}],\n",
              "   'goals2': [{'name': 'Zuber', 'minute': 50, 'score1': 1, 'score2': 1}],\n",
              "   'group': 'Group E',\n",
              "   'stadium': {'key': 'rostov', 'name': 'Rostov Arena'},\n",
              "   'city': 'Rostov-on-Don',\n",
              "   'timezone': 'UTC+3'},\n",
              "  {'num': 10,\n",
              "   'date': '2018-06-17',\n",
              "   'time': '16:00',\n",
              "   'team1': {'name': 'Costa Rica', 'code': 'CRC'},\n",
              "   'team2': {'name': 'Serbia', 'code': 'SRB'},\n",
              "   'score1': 0,\n",
              "   'score2': 1,\n",
              "   'score1i': 0,\n",
              "   'score2i': 0,\n",
              "   'goals1': [],\n",
              "   'goals2': [{'name': 'Kolarov', 'minute': 56, 'score1': 0, 'score2': 1}],\n",
              "   'group': 'Group E',\n",
              "   'stadium': {'key': 'samara', 'name': 'Samara Arena'},\n",
              "   'city': 'Samara',\n",
              "   'timezone': 'UTC+4'},\n",
              "  {'num': 11,\n",
              "   'date': '2018-06-17',\n",
              "   'time': '18:00',\n",
              "   'team1': {'name': 'Germany', 'code': 'GER'},\n",
              "   'team2': {'name': 'Mexico', 'code': 'MEX'},\n",
              "   'score1': 0,\n",
              "   'score2': 1,\n",
              "   'score1i': 0,\n",
              "   'score2i': 1,\n",
              "   'goals1': [],\n",
              "   'goals2': [{'name': 'Lozano', 'minute': 35, 'score1': 0, 'score2': 1}],\n",
              "   'group': 'Group F',\n",
              "   'stadium': {'key': 'luzhniki', 'name': 'Luzhniki Stadium'},\n",
              "   'city': 'Moscow',\n",
              "   'timezone': 'UTC+3'}]}"
            ]
          },
          "metadata": {},
          "execution_count": 14
        }
      ]
    },
    {
      "cell_type": "code",
      "source": [
        "# Replace None with appropriate code\n",
        "matches = []\n",
        "\n",
        "# \"round\" is a built-in function in Python so we use \"round_\" instead\n",
        "for round_ in rounds:\n",
        "    # Extract the list of matches for this round\n",
        "    round_matches = round_['matches']\n",
        "    # Add them to the overall list of matches\n",
        "    matches.extend(round_matches)\n",
        "\n",
        "matches[0]"
      ],
      "metadata": {
        "colab": {
          "base_uri": "https://localhost:8080/"
        },
        "id": "qWfE9-CWpvWI",
        "outputId": "d951f3be-5f24-4069-9263-f2075f29e12e"
      },
      "execution_count": 15,
      "outputs": [
        {
          "output_type": "execute_result",
          "data": {
            "text/plain": [
              "{'num': 1,\n",
              " 'date': '2018-06-14',\n",
              " 'time': '18:00',\n",
              " 'team1': {'name': 'Russia', 'code': 'RUS'},\n",
              " 'team2': {'name': 'Saudi Arabia', 'code': 'KSA'},\n",
              " 'score1': 5,\n",
              " 'score2': 0,\n",
              " 'score1i': 2,\n",
              " 'score2i': 0,\n",
              " 'goals1': [{'name': 'Gazinsky', 'minute': 12, 'score1': 1, 'score2': 0},\n",
              "  {'name': 'Cheryshev', 'minute': 43, 'score1': 2, 'score2': 0},\n",
              "  {'name': 'Dzyuba', 'minute': 71, 'score1': 3, 'score2': 0},\n",
              "  {'name': 'Cheryshev', 'minute': 90, 'offset': 1, 'score1': 4, 'score2': 0},\n",
              "  {'name': 'Golovin', 'minute': 90, 'offset': 4, 'score1': 5, 'score2': 0}],\n",
              " 'goals2': [],\n",
              " 'group': 'Group A',\n",
              " 'stadium': {'key': 'luzhniki', 'name': 'Luzhniki Stadium'},\n",
              " 'city': 'Moscow',\n",
              " 'timezone': 'UTC+3'}"
            ]
          },
          "metadata": {},
          "execution_count": 15
        }
      ]
    },
    {
      "cell_type": "code",
      "source": [
        "# Run this cell without changes\n",
        "\n",
        "# There should be 64 matches. If the length is 20, that means\n",
        "# you have a list of lists instead of a list of dictionaries\n",
        "assert len(matches) == 64\n",
        "\n",
        "# Each match in the list should be a dictionary\n",
        "assert type(matches[0]) == dict"
      ],
      "metadata": {
        "id": "W-WpCR2bqiB1"
      },
      "execution_count": 16,
      "outputs": []
    },
    {
      "cell_type": "code",
      "source": [
        "# Run this cell without changes\n",
        "print(matches[0][\"team1\"])\n",
        "print(matches[0][\"team2\"])"
      ],
      "metadata": {
        "colab": {
          "base_uri": "https://localhost:8080/"
        },
        "id": "GI-rD0jfqrkJ",
        "outputId": "daca724e-753c-4bce-ffaf-7b645ce26bfa"
      },
      "execution_count": 17,
      "outputs": [
        {
          "output_type": "stream",
          "name": "stdout",
          "text": [
            "{'name': 'Russia', 'code': 'RUS'}\n",
            "{'name': 'Saudi Arabia', 'code': 'KSA'}\n"
          ]
        }
      ]
    },
    {
      "cell_type": "code",
      "source": [
        "# Replace None with appropriate code\n",
        "teams_set = set()\n",
        "\n",
        "for match in matches:\n",
        "    # Add team1 name value to teams_set\n",
        "    None\n",
        "    # Add team2 name value to teams_set\n",
        "    None\n",
        "\n",
        "teams = sorted(list(teams_set))\n",
        "print(teams)"
      ],
      "metadata": {
        "colab": {
          "base_uri": "https://localhost:8080/"
        },
        "id": "IA-NwTporVV8",
        "outputId": "0e599d7f-a2b9-48f8-cb15-1ad7aec7ec92"
      },
      "execution_count": 18,
      "outputs": [
        {
          "output_type": "stream",
          "name": "stdout",
          "text": [
            "[]\n"
          ]
        }
      ]
    },
    {
      "cell_type": "code",
      "source": [
        "# Run this cell without changes\n",
        "# Replace None with appropriate code\n",
        "teams_set = set()\n",
        "\n",
        "for match in matches:\n",
        "    # Add team1 name value to teams_set\n",
        "    teams_set.add(match['team1']['name'])  # Extract team name from the match dictionary\n",
        "    # Add team2 name value to teams_set\n",
        "    teams_set.add(match['team2']['name'])  # Extract team name from the match dictionary\n",
        "\n",
        "teams = sorted(list(teams_set))\n",
        "print(teams)\n",
        "# teams should be a list, not a set\n",
        "assert type(teams) == list\n",
        "\n",
        "# 32 teams competed in the 2018 World Cup\n",
        "assert len(teams) == 32\n",
        "\n",
        "# Each element of teams should be a string\n",
        "# (the name), not a dictionary\n",
        "assert type(teams[0]) == str"
      ],
      "metadata": {
        "colab": {
          "base_uri": "https://localhost:8080/"
        },
        "id": "59Ur0jKkrZlZ",
        "outputId": "666330a3-9d14-4567-ef15-11872790388e"
      },
      "execution_count": 19,
      "outputs": [
        {
          "output_type": "stream",
          "name": "stdout",
          "text": [
            "['Argentina', 'Australia', 'Belgium', 'Brazil', 'Colombia', 'Costa Rica', 'Croatia', 'Denmark', 'Egypt', 'England', 'France', 'Germany', 'Iceland', 'Iran', 'Japan', 'Mexico', 'Morocco', 'Nigeria', 'Panama', 'Peru', 'Poland', 'Portugal', 'Russia', 'Saudi Arabia', 'Senegal', 'Serbia', 'South Korea', 'Spain', 'Sweden', 'Switzerland', 'Tunisia', 'Uruguay']\n"
          ]
        }
      ]
    },
    {
      "cell_type": "code",
      "source": [
        "# Replace None with appropriate code\n",
        "\n",
        "# Create the variable combined_data as described above\n",
        "None\n"
      ],
      "metadata": {
        "id": "miqT3kfms529"
      },
      "execution_count": 20,
      "outputs": []
    },
    {
      "cell_type": "code",
      "source": [
        "# Run this cell without changes\n",
        "\n",
        "# combined_data should be a dictionary\n",
        "# Create the variable combined_data as described above\n",
        "combined_data = {} # Initialize an empty dictionary\n",
        "\n",
        "for team in teams:\n",
        "    # Each key should be a team name, and each value should be\n",
        "    # a dictionary with keys \"wins\", \"losses\", and \"draws\",\n",
        "    # all initialized to 0\n",
        "    combined_data[team] = {\"wins\": 0, \"losses\": 0, \"draws\": 0}\n",
        "assert type(combined_data) == dict\n",
        "\n",
        "# the keys should be strings\n",
        "assert type(list(combined_data.keys())[0]) == str\n",
        "\n",
        "# the values should be dictionaries\n",
        "assert combined_data[\"Japan\"] == {\"wins\": 0, \"losses\": 0, \"draws\": 0}"
      ],
      "metadata": {
        "id": "lBqvH4lbueYF"
      },
      "execution_count": 21,
      "outputs": []
    },
    {
      "cell_type": "code",
      "source": [
        "{\n",
        "  'num': 1,\n",
        "  'date': '2018-06-14',\n",
        "  'time': '18:00',\n",
        "  'team1': { 'name': 'Russia',       'code': 'RUS' },\n",
        "  'team2': { 'name': 'Saudi Arabia', 'code': 'KSA' },\n",
        "  'score1': 5,\n",
        "  'score2': 0,\n",
        "  'score1i': 2,\n",
        "  'score2i': 0,\n",
        "  'goals1': [\n",
        "    { 'name': 'Gazinsky',  'minute': 12, 'score1': 1, 'score2': 0 },\n",
        "    { 'name': 'Cheryshev', 'minute': 43, 'score1': 2, 'score2': 0 },\n",
        "    { 'name': 'Dzyuba',    'minute': 71, 'score1': 3, 'score2': 0 },\n",
        "    { 'name': 'Cheryshev', 'minute': 90, 'offset': 1, 'score1': 4, 'score2': 0 },\n",
        "    { 'name': 'Golovin',   'minute': 90, 'offset': 4, 'score1': 5, 'score2': 0 }\n",
        "  ],\n",
        "  'goals2': [],\n",
        "  'group': 'Group A',\n",
        "  'stadium': { 'key': 'luzhniki', 'name': 'Luzhniki Stadium' },\n",
        "  'city': 'Moscow',\n",
        "  'timezone': 'UTC+3'\n",
        "}"
      ],
      "metadata": {
        "colab": {
          "base_uri": "https://localhost:8080/"
        },
        "id": "hqes5E_1whPm",
        "outputId": "3dc1bc02-7884-417b-ac9f-f3e664119d6b"
      },
      "execution_count": 22,
      "outputs": [
        {
          "output_type": "execute_result",
          "data": {
            "text/plain": [
              "{'num': 1,\n",
              " 'date': '2018-06-14',\n",
              " 'time': '18:00',\n",
              " 'team1': {'name': 'Russia', 'code': 'RUS'},\n",
              " 'team2': {'name': 'Saudi Arabia', 'code': 'KSA'},\n",
              " 'score1': 5,\n",
              " 'score2': 0,\n",
              " 'score1i': 2,\n",
              " 'score2i': 0,\n",
              " 'goals1': [{'name': 'Gazinsky', 'minute': 12, 'score1': 1, 'score2': 0},\n",
              "  {'name': 'Cheryshev', 'minute': 43, 'score1': 2, 'score2': 0},\n",
              "  {'name': 'Dzyuba', 'minute': 71, 'score1': 3, 'score2': 0},\n",
              "  {'name': 'Cheryshev', 'minute': 90, 'offset': 1, 'score1': 4, 'score2': 0},\n",
              "  {'name': 'Golovin', 'minute': 90, 'offset': 4, 'score1': 5, 'score2': 0}],\n",
              " 'goals2': [],\n",
              " 'group': 'Group A',\n",
              " 'stadium': {'key': 'luzhniki', 'name': 'Luzhniki Stadium'},\n",
              " 'city': 'Moscow',\n",
              " 'timezone': 'UTC+3'}"
            ]
          },
          "metadata": {},
          "execution_count": 22
        }
      ]
    },
    {
      "cell_type": "code",
      "source": [
        "# Replace None with appropriate code\n",
        "\n",
        "\n",
        "def find_winner(match):\n",
        "    \"\"\"\n",
        "    Given a dictionary containing information about a match,\n",
        "    return the name of the winner (or None in the case of a tie)\n",
        "    \"\"\"\n",
        "    if match['score1'] > match['score2']:\n",
        "        return match['team1']['name']\n",
        "    elif match['score1'] < match['score2']:\n",
        "        return match['team2']['name']\n",
        "    else:\n",
        "        return None  # Tie case\n"
      ],
      "metadata": {
        "id": "tRny1JGJwk09"
      },
      "execution_count": 23,
      "outputs": []
    },
    {
      "cell_type": "code",
      "source": [
        "# Run this cell without changes\n",
        "assert find_winner(matches[0]) == \"Russia\"\n",
        "assert find_winner(matches[1]) == \"Uruguay\"\n",
        "assert find_winner(matches[2]) == None"
      ],
      "metadata": {
        "id": "CfbEAdK1w_Mh"
      },
      "execution_count": 24,
      "outputs": []
    },
    {
      "cell_type": "code",
      "source": [
        "# Replace None with appropriate code\n",
        "\n",
        "for match in matches:\n",
        "    # Get the name of the winner\n",
        "    winner = None\n",
        "    # Only proceed to the next step if there was\n",
        "    # a winner\n",
        "    if winner:\n",
        "        # Add 1 to the associated count of wins\n",
        "        None\n",
        "\n",
        "# Visually inspect the output to ensure the wins are\n",
        "# different for different countries\n",
        "combined_data"
      ],
      "metadata": {
        "colab": {
          "base_uri": "https://localhost:8080/"
        },
        "id": "ZZ8u3I9Dyiu1",
        "outputId": "2b950835-182f-4e16-d698-ff1afe24f154"
      },
      "execution_count": 25,
      "outputs": [
        {
          "output_type": "execute_result",
          "data": {
            "text/plain": [
              "{'Argentina': {'wins': 0, 'losses': 0, 'draws': 0},\n",
              " 'Australia': {'wins': 0, 'losses': 0, 'draws': 0},\n",
              " 'Belgium': {'wins': 0, 'losses': 0, 'draws': 0},\n",
              " 'Brazil': {'wins': 0, 'losses': 0, 'draws': 0},\n",
              " 'Colombia': {'wins': 0, 'losses': 0, 'draws': 0},\n",
              " 'Costa Rica': {'wins': 0, 'losses': 0, 'draws': 0},\n",
              " 'Croatia': {'wins': 0, 'losses': 0, 'draws': 0},\n",
              " 'Denmark': {'wins': 0, 'losses': 0, 'draws': 0},\n",
              " 'Egypt': {'wins': 0, 'losses': 0, 'draws': 0},\n",
              " 'England': {'wins': 0, 'losses': 0, 'draws': 0},\n",
              " 'France': {'wins': 0, 'losses': 0, 'draws': 0},\n",
              " 'Germany': {'wins': 0, 'losses': 0, 'draws': 0},\n",
              " 'Iceland': {'wins': 0, 'losses': 0, 'draws': 0},\n",
              " 'Iran': {'wins': 0, 'losses': 0, 'draws': 0},\n",
              " 'Japan': {'wins': 0, 'losses': 0, 'draws': 0},\n",
              " 'Mexico': {'wins': 0, 'losses': 0, 'draws': 0},\n",
              " 'Morocco': {'wins': 0, 'losses': 0, 'draws': 0},\n",
              " 'Nigeria': {'wins': 0, 'losses': 0, 'draws': 0},\n",
              " 'Panama': {'wins': 0, 'losses': 0, 'draws': 0},\n",
              " 'Peru': {'wins': 0, 'losses': 0, 'draws': 0},\n",
              " 'Poland': {'wins': 0, 'losses': 0, 'draws': 0},\n",
              " 'Portugal': {'wins': 0, 'losses': 0, 'draws': 0},\n",
              " 'Russia': {'wins': 0, 'losses': 0, 'draws': 0},\n",
              " 'Saudi Arabia': {'wins': 0, 'losses': 0, 'draws': 0},\n",
              " 'Senegal': {'wins': 0, 'losses': 0, 'draws': 0},\n",
              " 'Serbia': {'wins': 0, 'losses': 0, 'draws': 0},\n",
              " 'South Korea': {'wins': 0, 'losses': 0, 'draws': 0},\n",
              " 'Spain': {'wins': 0, 'losses': 0, 'draws': 0},\n",
              " 'Sweden': {'wins': 0, 'losses': 0, 'draws': 0},\n",
              " 'Switzerland': {'wins': 0, 'losses': 0, 'draws': 0},\n",
              " 'Tunisia': {'wins': 0, 'losses': 0, 'draws': 0},\n",
              " 'Uruguay': {'wins': 0, 'losses': 0, 'draws': 0}}"
            ]
          },
          "metadata": {},
          "execution_count": 25
        }
      ]
    },
    {
      "cell_type": "code",
      "source": [
        "# Run this cell without changes\n",
        "import numpy as np\n",
        "\n",
        "wins = [val[\"wins\"] for val in combined_data.values()]\n",
        "\n",
        "print(\"Mean number of wins:\", np.mean(wins))\n",
        "print(\"Median number of wins:\", np.median(wins))\n",
        "print(\"Standard deviation of number of wins:\", np.std(wins))"
      ],
      "metadata": {
        "colab": {
          "base_uri": "https://localhost:8080/"
        },
        "id": "AmKeCFyTytmv",
        "outputId": "2eb1ec53-8734-4f8d-d12e-f85f77df19ad"
      },
      "execution_count": 26,
      "outputs": [
        {
          "output_type": "stream",
          "name": "stdout",
          "text": [
            "Mean number of wins: 0.0\n",
            "Median number of wins: 0.0\n",
            "Standard deviation of number of wins: 0.0\n"
          ]
        }
      ]
    },
    {
      "cell_type": "code",
      "source": [
        "# Run this cell without changes\n",
        "import matplotlib.pyplot as plt\n",
        "\n",
        "# Set up figure and axes\n",
        "fig, (ax1, ax2) = plt.subplots(ncols=2, figsize=(12, 7))\n",
        "fig.set_tight_layout(True)\n",
        "\n",
        "# Histogram of Wins and Frequencies\n",
        "ax1.hist(x=wins, bins=range(8), align=\"left\", color=\"green\")\n",
        "ax1.set_xticks(range(7))\n",
        "ax1.set_xlabel(\"Wins in 2018 World Cup\")\n",
        "ax1.set_ylabel(\"Frequency\")\n",
        "ax1.set_title(\"Distribution of Wins\")\n",
        "\n",
        "# Horizontal Bar Graph of Wins by Country\n",
        "ax2.barh(teams[::-1], wins[::-1], color=\"green\")\n",
        "ax2.set_xlabel(\"Wins in 2018 World Cup\")\n",
        "ax2.set_title(\"Wins by Country\");"
      ],
      "metadata": {
        "colab": {
          "base_uri": "https://localhost:8080/",
          "height": 382
        },
        "id": "dztsDc832nx5",
        "outputId": "b1e79746-2060-4b15-b12e-18ccbbbdcf4b"
      },
      "execution_count": 27,
      "outputs": [
        {
          "output_type": "display_data",
          "data": {
            "text/plain": [
              "<Figure size 1200x700 with 2 Axes>"
            ],
            "image/png": "[encoded data removed]"
          },
          "metadata": {}
        }
      ]
    },
    {
      "cell_type": "code",
      "source": [
        "len(population_data)"
      ],
      "metadata": {
        "colab": {
          "base_uri": "https://localhost:8080/"
        },
        "id": "0UfsRsMb24g5",
        "outputId": "a0cd1f0f-753c-4bfc-b175-851fe7ab8dc4"
      },
      "execution_count": 28,
      "outputs": [
        {
          "output_type": "execute_result",
          "data": {
            "text/plain": [
              "12694"
            ]
          },
          "metadata": {},
          "execution_count": 28
        }
      ]
    },
    {
      "cell_type": "code",
      "source": [
        "# Run this cell without changes\n",
        "np.random.seed(42)\n",
        "population_record_samples = np.random.choice(population_data, size=10)\n",
        "population_record_samples"
      ],
      "metadata": {
        "colab": {
          "base_uri": "https://localhost:8080/"
        },
        "id": "44KxgKbj4WXh",
        "outputId": "d49eb76e-3313-4795-ab67-8bb2daf858a1"
      },
      "execution_count": 29,
      "outputs": [
        {
          "output_type": "execute_result",
          "data": {
            "text/plain": [
              "array([{'2714': '9985', 'Afghanistan': 'Malta', 'AFG': 'MLT', '1960': '1984', '8996973': '330593'},\n",
              "       {'2714': '3575', 'Afghanistan': 'Bahrain', 'AFG': 'BHR', '1960': '1995', '8996973': '563697'},\n",
              "       {'2714': '8105', 'Afghanistan': 'Iran, Islamic Rep.', 'AFG': 'IRN', '1960': '1989', '8996973': '54822003'},\n",
              "       {'2714': '7906', 'Afghanistan': 'Iceland', 'AFG': 'ISL', '1960': '1967', '8996973': '198751'},\n",
              "       {'2714': '14679', 'Afghanistan': 'United Arab Emirates', 'AFG': 'ARE', '1960': '1967', '8996973': '169771'},\n",
              "       {'2714': '13999', 'Afghanistan': 'Thailand', 'AFG': 'THA', '1960': '1995', '8996973': '59467274'},\n",
              "       {'2714': '8449', 'Afghanistan': 'Jamaica', 'AFG': 'JAM', '1960': '1979', '8996973': '2132785'},\n",
              "       {'2714': '8980', 'Afghanistan': 'Kuwait', 'AFG': 'KWT', '1960': '1979', '8996973': '1296081'},\n",
              "       {'2714': '3181', 'Afghanistan': 'Argentina', 'AFG': 'ARG', '1960': '2014', '8996973': '42669500'},\n",
              "       {'2714': '7141', 'Afghanistan': 'Gibraltar', 'AFG': 'GIB', '1960': '1969', '8996973': '28166'}],\n",
              "      dtype=object)"
            ]
          },
          "metadata": {},
          "execution_count": 29
        }
      ]
    },
    {
      "cell_type": "code",
      "source": [
        "population_record_samples[2]"
      ],
      "metadata": {
        "colab": {
          "base_uri": "https://localhost:8080/"
        },
        "id": "a8Vcsrnw4Zo9",
        "outputId": "b987544a-2415-4801-b3b6-0840e631e65a"
      },
      "execution_count": 30,
      "outputs": [
        {
          "output_type": "execute_result",
          "data": {
            "text/plain": [
              "{'2714': '8105',\n",
              " 'Afghanistan': 'Iran, Islamic Rep.',\n",
              " 'AFG': 'IRN',\n",
              " '1960': '1989',\n",
              " '8996973': '54822003'}"
            ]
          },
          "metadata": {},
          "execution_count": 30
        }
      ]
    },
    {
      "cell_type": "code",
      "source": [
        "teams[13]"
      ],
      "metadata": {
        "colab": {
          "base_uri": "https://localhost:8080/",
          "height": 35
        },
        "id": "4CjfuLLj5OTz",
        "outputId": "fa8ba5c5-07e3-4a69-d5da-b9e8b8dc91ba"
      },
      "execution_count": 31,
      "outputs": [
        {
          "output_type": "execute_result",
          "data": {
            "text/plain": [
              "'Iran'"
            ],
            "application/vnd.google.colaboratory.intrinsic+json": {
              "type": "string"
            }
          },
          "metadata": {},
          "execution_count": 31
        }
      ]
    },
    {
      "cell_type": "code",
      "source": [
        "# Run this cell without changes\n",
        "def normalize_location(country_name):\n",
        "    \"\"\"\n",
        "    Given a country name, return the name that the\n",
        "    country uses when playing in the FIFA World Cup\n",
        "    \"\"\"\n",
        "    name_sub_dict = {\n",
        "        \"Russian Federation\": \"Russia\",\n",
        "        \"Egypt, Arab Rep.\": \"Egypt\",\n",
        "        \"Iran, Islamic Rep.\": \"Iran\",\n",
        "        \"Korea, Rep.\": \"South Korea\",\n",
        "        \"United Kingdom\": \"England\",\n",
        "    }\n",
        "    # The .get method returns the corresponding value from\n",
        "    # the dict if present, otherwise returns country_name\n",
        "    return name_sub_dict.get(country_name, country_name)\n",
        "\n",
        "\n",
        "# Example where normalized location is different\n",
        "print(normalize_location(\"Russian Federation\"))\n",
        "# Example where normalized location is the same\n",
        "print(normalize_location(\"Argentina\"))"
      ],
      "metadata": {
        "colab": {
          "base_uri": "https://localhost:8080/"
        },
        "id": "pOwzGlOW5Tg7",
        "outputId": "db3b137f-366f-416e-c0b2-94b857ca9ee9"
      },
      "execution_count": 32,
      "outputs": [
        {
          "output_type": "stream",
          "name": "stdout",
          "text": [
            "Russia\n",
            "Argentina\n"
          ]
        }
      ]
    },
    {
      "cell_type": "code",
      "source": [
        "# Replace None with appropriate code\n",
        "\n",
        "population_data_filtered = ['country']\n",
        "\n",
        "for record in population_data:\n",
        "    # Check if 'country' key exists before accessing it\n",
        "    if 'country' in record:\n",
        "        # Get normalized country name\n",
        "        normalized_country = record['country']\n",
        "\n",
        "        # Add record to population_data_filtered if relevant\n",
        "        if normalized_country in relevant_countries:\n",
        "            # Replace the country name in the record\n",
        "            record['country'] = normalized_country\n",
        "\n",
        "            # Append to list\n",
        "            population_data_filtered.append(record)\n",
        "\n",
        "len(population_data_filtered)  # 32\n"
      ],
      "metadata": {
        "colab": {
          "base_uri": "https://localhost:8080/"
        },
        "id": "iJgtZyqV5k0a",
        "outputId": "cba917cd-22c3-4809-fb58-b924834682cb"
      },
      "execution_count": 33,
      "outputs": [
        {
          "output_type": "execute_result",
          "data": {
            "text/plain": [
              "1"
            ]
          },
          "metadata": {},
          "execution_count": 33
        }
      ]
    },
    {
      "cell_type": "code",
      "source": [
        "# Run this cell without changes\n",
        "population_data_filtered[0]"
      ],
      "metadata": {
        "colab": {
          "base_uri": "https://localhost:8080/",
          "height": 35
        },
        "id": "6S4tdWf1-moR",
        "outputId": "3c970aa7-1155-4718-96f1-f5286f07a006"
      },
      "execution_count": 34,
      "outputs": [
        {
          "output_type": "execute_result",
          "data": {
            "text/plain": [
              "'country'"
            ],
            "application/vnd.google.colaboratory.intrinsic+json": {
              "type": "string"
            }
          },
          "metadata": {},
          "execution_count": 34
        }
      ]
    },
    {
      "cell_type": "code",
      "source": [
        "# Replace None with appropriate code\n",
        "for record in population_data_filtered:\n",
        "    # Convert the population value from str to int\n",
        "    None\n",
        "\n",
        "# Look at the last record to make sure the population\n",
        "# value is an int\n",
        "population_data_filtered[-1]"
      ],
      "metadata": {
        "colab": {
          "base_uri": "https://localhost:8080/",
          "height": 35
        },
        "id": "kXuS1Iut_OJ9",
        "outputId": "ab7e08ef-d1e1-4221-8dfc-fdec4989596a"
      },
      "execution_count": 35,
      "outputs": [
        {
          "output_type": "execute_result",
          "data": {
            "text/plain": [
              "'country'"
            ],
            "application/vnd.google.colaboratory.intrinsic+json": {
              "type": "string"
            }
          },
          "metadata": {},
          "execution_count": 35
        }
      ]
    },
    {
      "cell_type": "code",
      "source": [
        "# Replace None with appropriate code\n",
        "for record in population_data_filtered:\n",
        "    # Convert the population value from str to int\n",
        "    if 'Value' in record:\n",
        "        record['Value'] = int(record['Value'])\n",
        "\n",
        "# Look at the last record to make sure the population\n",
        "# value is an int\n",
        "population_data_filtered[-1]"
      ],
      "metadata": {
        "colab": {
          "base_uri": "https://localhost:8080/",
          "height": 35
        },
        "id": "6zl4nd6w_dY0",
        "outputId": "368cef71-cf28-4912-eac0-9966217f1de4"
      },
      "execution_count": 36,
      "outputs": [
        {
          "output_type": "execute_result",
          "data": {
            "text/plain": [
              "'country'"
            ],
            "application/vnd.google.colaboratory.intrinsic+json": {
              "type": "string"
            }
          },
          "metadata": {},
          "execution_count": 36
        }
      ]
    },
    {
      "cell_type": "code",
      "source": [
        "# Run this cell without changes\n",
        "combined_data"
      ],
      "metadata": {
        "colab": {
          "base_uri": "https://localhost:8080/"
        },
        "id": "HUyOFLCsAZLC",
        "outputId": "102d92c3-d460-4b8b-9233-59c5cfa28f21"
      },
      "execution_count": 37,
      "outputs": [
        {
          "output_type": "execute_result",
          "data": {
            "text/plain": [
              "{'Argentina': {'wins': 0, 'losses': 0, 'draws': 0},\n",
              " 'Australia': {'wins': 0, 'losses': 0, 'draws': 0},\n",
              " 'Belgium': {'wins': 0, 'losses': 0, 'draws': 0},\n",
              " 'Brazil': {'wins': 0, 'losses': 0, 'draws': 0},\n",
              " 'Colombia': {'wins': 0, 'losses': 0, 'draws': 0},\n",
              " 'Costa Rica': {'wins': 0, 'losses': 0, 'draws': 0},\n",
              " 'Croatia': {'wins': 0, 'losses': 0, 'draws': 0},\n",
              " 'Denmark': {'wins': 0, 'losses': 0, 'draws': 0},\n",
              " 'Egypt': {'wins': 0, 'losses': 0, 'draws': 0},\n",
              " 'England': {'wins': 0, 'losses': 0, 'draws': 0},\n",
              " 'France': {'wins': 0, 'losses': 0, 'draws': 0},\n",
              " 'Germany': {'wins': 0, 'losses': 0, 'draws': 0},\n",
              " 'Iceland': {'wins': 0, 'losses': 0, 'draws': 0},\n",
              " 'Iran': {'wins': 0, 'losses': 0, 'draws': 0},\n",
              " 'Japan': {'wins': 0, 'losses': 0, 'draws': 0},\n",
              " 'Mexico': {'wins': 0, 'losses': 0, 'draws': 0},\n",
              " 'Morocco': {'wins': 0, 'losses': 0, 'draws': 0},\n",
              " 'Nigeria': {'wins': 0, 'losses': 0, 'draws': 0},\n",
              " 'Panama': {'wins': 0, 'losses': 0, 'draws': 0},\n",
              " 'Peru': {'wins': 0, 'losses': 0, 'draws': 0},\n",
              " 'Poland': {'wins': 0, 'losses': 0, 'draws': 0},\n",
              " 'Portugal': {'wins': 0, 'losses': 0, 'draws': 0},\n",
              " 'Russia': {'wins': 0, 'losses': 0, 'draws': 0},\n",
              " 'Saudi Arabia': {'wins': 0, 'losses': 0, 'draws': 0},\n",
              " 'Senegal': {'wins': 0, 'losses': 0, 'draws': 0},\n",
              " 'Serbia': {'wins': 0, 'losses': 0, 'draws': 0},\n",
              " 'South Korea': {'wins': 0, 'losses': 0, 'draws': 0},\n",
              " 'Spain': {'wins': 0, 'losses': 0, 'draws': 0},\n",
              " 'Sweden': {'wins': 0, 'losses': 0, 'draws': 0},\n",
              " 'Switzerland': {'wins': 0, 'losses': 0, 'draws': 0},\n",
              " 'Tunisia': {'wins': 0, 'losses': 0, 'draws': 0},\n",
              " 'Uruguay': {'wins': 0, 'losses': 0, 'draws': 0}}"
            ]
          },
          "metadata": {},
          "execution_count": 37
        }
      ]
    },
    {
      "cell_type": "code",
      "source": [
        "combined_data = []\n",
        "\n",
        "for record in population_data_filtered:\n",
        "    # Check if the record is a dictionary before proceeding\n",
        "    if isinstance(record, dict):\n",
        "        # Extract the country name from the record\n",
        "        country = record.get('country') # Use get method to safely extract values\n",
        "\n",
        "        # Extract the population value from the record\n",
        "        population = record.get('population')\n",
        "\n",
        "        # Add this information to combined_data if both country and population exist\n",
        "        if country and population:\n",
        "            combined_data.append({'country': country, 'population': population})\n",
        "    else:\n",
        "        print(f\"Skipping non-dictionary record: {record}\")  # Print a message for non-dictionary records\n",
        "\n",
        "# Look at combined_data\n",
        "combined_data"
      ],
      "metadata": {
        "colab": {
          "base_uri": "https://localhost:8080/"
        },
        "id": "SB0I14sKAh2R",
        "outputId": "cacd7c8d-3c52-4491-b5d5-b6f5cc21ffa4"
      },
      "execution_count": 38,
      "outputs": [
        {
          "output_type": "stream",
          "name": "stdout",
          "text": [
            "Skipping non-dictionary record: country\n"
          ]
        },
        {
          "output_type": "execute_result",
          "data": {
            "text/plain": [
              "[]"
            ]
          },
          "metadata": {},
          "execution_count": 38
        }
      ]
    },
    {
      "cell_type": "code",
      "source": [
        "# Run this cell without changes\n",
        "combined_data_dict = {}  # Initialize an empty dictionary\n",
        "\n",
        "for record in population_data_filtered:\n",
        "    # Check if the record is a dictionary before proceeding\n",
        "    if isinstance(record, dict):\n",
        "        # Extract the country name from the record\n",
        "        country = record.get('country') # Use get method to safely extract values\n",
        "\n",
        "        # Extract the population value from the record\n",
        "        population = record.get('population')\n",
        "\n",
        "        # Add this information to combined_data_dict if both country and population exist\n",
        "        if country and population:\n",
        "            combined_data_dict[country] = {'population': population}  # Use country as key\n",
        "    else:\n",
        "        print(f\"Skipping non-dictionary record: {record}\")  # Print a message for non-dictionary records\n",
        "\n",
        "# Look at combined_data_dict\n",
        "print(combined_data_dict)\n",
        "\n",
        "# Now you can access elements using country names as keys\n",
        "if 'Uruguay' in combined_data_dict:\n",
        "    assert type(combined_data_dict[\"Uruguay\"]) == dict\n",
        "    assert type(combined_data_dict[\"Uruguay\"][\"population\"]) == int\n",
        "else:\n",
        "    print(\"Warning: 'Uruguay' not found in the dataset.\")"
      ],
      "metadata": {
        "colab": {
          "base_uri": "https://localhost:8080/"
        },
        "id": "KOqhZ8EWCoZ9",
        "outputId": "4bd5ccdd-6350-47ff-9fe6-0f2af922a1d8"
      },
      "execution_count": 41,
      "outputs": [
        {
          "output_type": "stream",
          "name": "stdout",
          "text": [
            "Skipping non-dictionary record: country\n",
            "{}\n",
            "Warning: 'Uruguay' not found in the dataset.\n"
          ]
        }
      ]
    },
    {
      "cell_type": "code",
      "source": [
        "!pip install numpy\n",
        "import numpy as np\n",
        "\n",
        "populations = [record[\"population\"] for record in combined_data]\n",
        "\n",
        "print(\"Mean population:\", np.mean(populations))\n",
        "print(\"Median population:\", np.median(populations))\n",
        "print(\"Standard deviation of population:\", np.std(populations))"
      ],
      "metadata": {
        "colab": {
          "base_uri": "https://localhost:8080/"
        },
        "id": "MkEkgJSbf68D",
        "outputId": "42f3f9b2-db81-405f-961c-0c9a0637f974"
      },
      "execution_count": 43,
      "outputs": [
        {
          "output_type": "stream",
          "name": "stdout",
          "text": [
            "Requirement already satisfied: numpy in /usr/local/lib/python3.10/dist-packages (1.26.4)\n",
            "Mean population: nan\n",
            "Median population: nan\n",
            "Standard deviation of population: nan\n"
          ]
        },
        {
          "output_type": "stream",
          "name": "stderr",
          "text": [
            "/usr/local/lib/python3.10/dist-packages/numpy/core/fromnumeric.py:3504: RuntimeWarning: Mean of empty slice.\n",
            "  return _methods._mean(a, axis=axis, dtype=dtype,\n",
            "/usr/local/lib/python3.10/dist-packages/numpy/core/_methods.py:129: RuntimeWarning: invalid value encountered in scalar divide\n",
            "  ret = ret.dtype.type(ret / rcount)\n",
            "/usr/local/lib/python3.10/dist-packages/numpy/core/_methods.py:206: RuntimeWarning: Degrees of freedom <= 0 for slice\n",
            "  ret = _var(a, axis=axis, dtype=dtype, out=out, ddof=ddof,\n",
            "/usr/local/lib/python3.10/dist-packages/numpy/core/_methods.py:163: RuntimeWarning: invalid value encountered in divide\n",
            "  arrmean = um.true_divide(arrmean, div, out=arrmean,\n",
            "/usr/local/lib/python3.10/dist-packages/numpy/core/_methods.py:198: RuntimeWarning: invalid value encountered in scalar divide\n",
            "  ret = ret.dtype.type(ret / rcount)\n"
          ]
        }
      ]
    },
    {
      "cell_type": "code",
      "source": [
        "# Set up figure and axes\n",
        "fig, (ax1, ax2) = plt.subplots(ncols=2, figsize=(12, 7))\n",
        "fig.set_tight_layout(True)\n",
        "\n",
        "# Histogram of Populations and Frequencies\n",
        "ax1.hist(x=populations, color=\"blue\")\n",
        "ax1.set_xlabel(\"2018 Population\")\n",
        "ax1.set_ylabel(\"Frequency\")\n",
        "ax1.set_title(\"Distribution of Population\")\n",
        "\n",
        "# Check if populations list is empty and provide guidance if so\n",
        "if not populations:\n",
        "    print(\"The 'populations' list is empty. Ensure that 'combined_data' is correctly populated with population data.\")\n",
        "else:\n",
        "    # Horizontal Bar Graph of Population by Country (only if populations is not empty)\n",
        "    if len(teams) != len(populations):\n",
        "        print(\"Warning: Length of 'teams' and 'populations' do not match. Plotting might fail.\")\n",
        "\n",
        "    ax2.barh(teams[::-1], populations[::-1], color=\"blue\")\n",
        "    ax2.set_xlabel(\"2018 Population\")\n",
        "    ax2.set_title(\"Population by Country\");"
      ],
      "metadata": {
        "colab": {
          "base_uri": "https://localhost:8080/",
          "height": 419
        },
        "id": "vKeOHQFMgIvf",
        "outputId": "c7947920-8f13-4c0a-9b6c-b7c9563740e8"
      },
      "execution_count": 46,
      "outputs": [
        {
          "output_type": "stream",
          "name": "stdout",
          "text": [
            "The 'populations' list is empty. Ensure that 'combined_data' is correctly populated with population data.\n"
          ]
        },
        {
          "output_type": "display_data",
          "data": {
            "text/plain": [
              "<Figure size 1200x700 with 2 Axes>"
            ],
            "image/png": "[encoded data removed]"
          },
          "metadata": {}
        }
      ]
    },
    {
      "cell_type": "code",
      "source": [
        "# Previous code to generate combined_data (ipython-input-38-ea3008a5aea7)\n",
        "\n",
        "# ... (Your existing code to populate combined_data)\n",
        "\n",
        "# Verify the content of combined_data\n",
        "print(combined_data)  # Check if combined_data has any records\n",
        "\n",
        "populations = [record.get(\"population\", 0) for record in combined_data]  # Handle potential missing 'population' keys\n"
      ],
      "metadata": {
        "colab": {
          "base_uri": "https://localhost:8080/"
        },
        "id": "LjKbAxWHkm_p",
        "outputId": "024d2f83-d161-4f3f-cc2d-f00b20b3f2fa"
      },
      "execution_count": 48,
      "outputs": [
        {
          "output_type": "stream",
          "name": "stdout",
          "text": [
            "[]\n"
          ]
        }
      ]
    },
    {
      "cell_type": "code",
      "source": [
        "# Run this cell without changes\n",
        "\n",
        "# Set up figure\n",
        "fig, ax = plt.subplots(figsize=(8, 5))\n",
        "# Previous code to generate combined_data (ipython-input-38-ea3008a5aea7)\n",
        "\n",
        "# ... (Your existing code to populate combined_data)\n",
        "\n",
        "# Verify the content of combined_data\n",
        "print(combined_data) # Check if combined_data has the expected data\n",
        "\n",
        "# Extract populations, handling potential missing 'population' keys\n",
        "populations = [record.get(\"population\", 0) for record in combined_data]\n",
        "\n",
        "# Verify populations is populated correctly\n",
        "print(populations)\n",
        "\n",
        "# Basic scatter plot\n",
        "ax.set_xlabel(\"2018 Population\")\n",
        "ax.set_ylabel(\"2018 World Cup Wins\")\n",
        "ax.set_title(\"Population vs. World Cup Wins\")\n",
        "\n",
        "# Add annotations for specific points of interest\n",
        "highlighted_points = {\n",
        "    \"Belgium\": 2,  # Numbers are the index of that\n",
        "    \"Brazil\": 3,  # country in populations & wins\n",
        "    \"France\": 10,\n",
        "    \"Nigeria\": 17,\n",
        "}\n",
        "\n",
        "# Check if populations is not empty before proceeding\n",
        "if populations:\n",
        "    for country, index in highlighted_points.items():\n",
        "        # Check if the index is within the valid range\n",
        "        if index < len(populations):\n",
        "            # Get x and y position of data point\n",
        "            x = populations[index]\n",
        "            y = wins[index]\n",
        "            # Move each point slightly down and to the left\n",
        "            # (numbers were chosen by manually tweaking)\n",
        "            xtext = x - (1.25e6 * len(country))\n",
        "            ytext = y - 0.5\n",
        "            # Annotate with relevant arguments\n",
        "            ax.annotate(text=country, xy=(x, y), xytext=(xtext, ytext))\n",
        "        else:\n",
        "            print(f\"Warning: Index {index} for country '{country}' is out of range.\")\n",
        "else:\n",
        "    print(\"The 'populations' list is empty. Cannot annotate points.\")"
      ],
      "metadata": {
        "colab": {
          "base_uri": "https://localhost:8080/",
          "height": 490
        },
        "id": "PxQ6HizYlENz",
        "outputId": "3376260f-ac29-48fb-ef92-d6727e28d671"
      },
      "execution_count": 52,
      "outputs": [
        {
          "output_type": "stream",
          "name": "stdout",
          "text": [
            "[]\n",
            "[]\n",
            "The 'populations' list is empty. Cannot annotate points.\n"
          ]
        },
        {
          "output_type": "display_data",
          "data": {
            "text/plain": [
              "<Figure size 800x500 with 1 Axes>"
            ],
            "image/png": "[encoded data removed]"
          },
          "metadata": {}
        }
      ]
    },
    {
      "cell_type": "code",
      "source": [],
      "metadata": {
        "id": "iUrVhIcetRB3"
      },
      "execution_count": null,
      "outputs": []
    }
  ]
}